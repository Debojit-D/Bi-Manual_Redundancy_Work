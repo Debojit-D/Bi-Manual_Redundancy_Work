{
 "cells": [
  {
   "cell_type": "code",
   "execution_count": 79,
   "metadata": {},
   "outputs": [
    {
     "name": "stdout",
     "output_type": "stream",
     "text": [
      "G Matrix:\n"
     ]
    },
    {
     "data": {
      "text/html": [
       "<div>\n",
       "<style scoped>\n",
       "    .dataframe tbody tr th:only-of-type {\n",
       "        vertical-align: middle;\n",
       "    }\n",
       "\n",
       "    .dataframe tbody tr th {\n",
       "        vertical-align: top;\n",
       "    }\n",
       "\n",
       "    .dataframe thead th {\n",
       "        text-align: right;\n",
       "    }\n",
       "</style>\n",
       "<table border=\"1\" class=\"dataframe\">\n",
       "  <thead>\n",
       "    <tr style=\"text-align: right;\">\n",
       "      <th></th>\n",
       "      <th>0</th>\n",
       "      <th>1</th>\n",
       "      <th>2</th>\n",
       "      <th>3</th>\n",
       "      <th>4</th>\n",
       "      <th>5</th>\n",
       "      <th>6</th>\n",
       "      <th>7</th>\n",
       "    </tr>\n",
       "  </thead>\n",
       "  <tbody>\n",
       "    <tr>\n",
       "      <th>0</th>\n",
       "      <td>1.000000e+00</td>\n",
       "      <td>9.536828e-07</td>\n",
       "      <td>6.278265e-05</td>\n",
       "      <td>0.000000e+00</td>\n",
       "      <td>9.536828e-07</td>\n",
       "      <td>1.000000e+00</td>\n",
       "      <td>-6.278265e-05</td>\n",
       "      <td>0.000000e+00</td>\n",
       "    </tr>\n",
       "    <tr>\n",
       "      <th>1</th>\n",
       "      <td>6.278265e-05</td>\n",
       "      <td>2.178229e-08</td>\n",
       "      <td>-1.000000e+00</td>\n",
       "      <td>0.000000e+00</td>\n",
       "      <td>2.178229e-08</td>\n",
       "      <td>6.278265e-05</td>\n",
       "      <td>1.000000e+00</td>\n",
       "      <td>0.000000e+00</td>\n",
       "    </tr>\n",
       "    <tr>\n",
       "      <th>2</th>\n",
       "      <td>-9.536842e-07</td>\n",
       "      <td>1.000000e+00</td>\n",
       "      <td>2.172241e-08</td>\n",
       "      <td>0.000000e+00</td>\n",
       "      <td>1.000000e+00</td>\n",
       "      <td>-9.536842e-07</td>\n",
       "      <td>-2.172241e-08</td>\n",
       "      <td>0.000000e+00</td>\n",
       "    </tr>\n",
       "    <tr>\n",
       "      <th>3</th>\n",
       "      <td>-2.384207e-07</td>\n",
       "      <td>2.500000e-01</td>\n",
       "      <td>-1.654361e-24</td>\n",
       "      <td>6.278265e-05</td>\n",
       "      <td>-2.500000e-01</td>\n",
       "      <td>2.384207e-07</td>\n",
       "      <td>-1.654361e-24</td>\n",
       "      <td>-6.278265e-05</td>\n",
       "    </tr>\n",
       "    <tr>\n",
       "      <th>4</th>\n",
       "      <td>-5.445572e-09</td>\n",
       "      <td>1.569566e-05</td>\n",
       "      <td>-5.048710e-29</td>\n",
       "      <td>-1.000000e+00</td>\n",
       "      <td>-1.569566e-05</td>\n",
       "      <td>5.445572e-09</td>\n",
       "      <td>-5.048710e-29</td>\n",
       "      <td>1.000000e+00</td>\n",
       "    </tr>\n",
       "    <tr>\n",
       "      <th>5</th>\n",
       "      <td>-2.500000e-01</td>\n",
       "      <td>-2.384211e-07</td>\n",
       "      <td>3.388132e-21</td>\n",
       "      <td>2.172241e-08</td>\n",
       "      <td>2.384211e-07</td>\n",
       "      <td>2.500000e-01</td>\n",
       "      <td>3.388132e-21</td>\n",
       "      <td>-2.172241e-08</td>\n",
       "    </tr>\n",
       "  </tbody>\n",
       "</table>\n",
       "</div>"
      ],
      "text/plain": [
       "              0             1             2             3             4  \\\n",
       "0  1.000000e+00  9.536828e-07  6.278265e-05  0.000000e+00  9.536828e-07   \n",
       "1  6.278265e-05  2.178229e-08 -1.000000e+00  0.000000e+00  2.178229e-08   \n",
       "2 -9.536842e-07  1.000000e+00  2.172241e-08  0.000000e+00  1.000000e+00   \n",
       "3 -2.384207e-07  2.500000e-01 -1.654361e-24  6.278265e-05 -2.500000e-01   \n",
       "4 -5.445572e-09  1.569566e-05 -5.048710e-29 -1.000000e+00 -1.569566e-05   \n",
       "5 -2.500000e-01 -2.384211e-07  3.388132e-21  2.172241e-08  2.384211e-07   \n",
       "\n",
       "              5             6             7  \n",
       "0  1.000000e+00 -6.278265e-05  0.000000e+00  \n",
       "1  6.278265e-05  1.000000e+00  0.000000e+00  \n",
       "2 -9.536842e-07 -2.172241e-08  0.000000e+00  \n",
       "3  2.384207e-07 -1.654361e-24 -6.278265e-05  \n",
       "4  5.445572e-09 -5.048710e-29  1.000000e+00  \n",
       "5  2.500000e-01  3.388132e-21 -2.172241e-08  "
      ]
     },
     "metadata": {},
     "output_type": "display_data"
    },
    {
     "ename": "LinAlgError",
     "evalue": "Last 2 dimensions of the array must be square",
     "output_type": "error",
     "traceback": [
      "\u001b[0;31m---------------------------------------------------------------------------\u001b[0m",
      "\u001b[0;31mLinAlgError\u001b[0m                               Traceback (most recent call last)",
      "Cell \u001b[0;32mIn[79], line 17\u001b[0m\n\u001b[1;32m     15\u001b[0m \u001b[38;5;28mprint\u001b[39m(\u001b[38;5;124m\"\u001b[39m\u001b[38;5;124mG Matrix:\u001b[39m\u001b[38;5;124m\"\u001b[39m)\n\u001b[1;32m     16\u001b[0m display(matrix_df)\n\u001b[0;32m---> 17\u001b[0m \u001b[38;5;28mprint\u001b[39m(\u001b[38;5;124m\"\u001b[39m\u001b[38;5;124mDeterminant of the matrix:\u001b[39m\u001b[38;5;124m\"\u001b[39m, \u001b[43mnp\u001b[49m\u001b[38;5;241;43m.\u001b[39;49m\u001b[43mlinalg\u001b[49m\u001b[38;5;241;43m.\u001b[39;49m\u001b[43mdet\u001b[49m\u001b[43m(\u001b[49m\u001b[43mmatrix\u001b[49m\u001b[43m)\u001b[49m)\n\u001b[1;32m     18\u001b[0m np\u001b[38;5;241m.\u001b[39mlinalg\u001b[38;5;241m.\u001b[39mdet(matrix)\n\u001b[1;32m     19\u001b[0m \u001b[38;5;28mprint\u001b[39m(\u001b[38;5;124m\"\u001b[39m\u001b[38;5;124mInverse of the G matrix:\u001b[39m\u001b[38;5;124m\"\u001b[39m)\n",
      "File \u001b[0;32m<__array_function__ internals>:200\u001b[0m, in \u001b[0;36mdet\u001b[0;34m(*args, **kwargs)\u001b[0m\n",
      "File \u001b[0;32m~/.local/lib/python3.8/site-packages/numpy/linalg/linalg.py:2136\u001b[0m, in \u001b[0;36mdet\u001b[0;34m(a)\u001b[0m\n\u001b[1;32m   2134\u001b[0m a \u001b[38;5;241m=\u001b[39m asarray(a)\n\u001b[1;32m   2135\u001b[0m _assert_stacked_2d(a)\n\u001b[0;32m-> 2136\u001b[0m \u001b[43m_assert_stacked_square\u001b[49m\u001b[43m(\u001b[49m\u001b[43ma\u001b[49m\u001b[43m)\u001b[49m\n\u001b[1;32m   2137\u001b[0m t, result_t \u001b[38;5;241m=\u001b[39m _commonType(a)\n\u001b[1;32m   2138\u001b[0m signature \u001b[38;5;241m=\u001b[39m \u001b[38;5;124m'\u001b[39m\u001b[38;5;124mD->D\u001b[39m\u001b[38;5;124m'\u001b[39m \u001b[38;5;28;01mif\u001b[39;00m isComplexType(t) \u001b[38;5;28;01melse\u001b[39;00m \u001b[38;5;124m'\u001b[39m\u001b[38;5;124md->d\u001b[39m\u001b[38;5;124m'\u001b[39m\n",
      "File \u001b[0;32m~/.local/lib/python3.8/site-packages/numpy/linalg/linalg.py:190\u001b[0m, in \u001b[0;36m_assert_stacked_square\u001b[0;34m(*arrays)\u001b[0m\n\u001b[1;32m    188\u001b[0m m, n \u001b[38;5;241m=\u001b[39m a\u001b[38;5;241m.\u001b[39mshape[\u001b[38;5;241m-\u001b[39m\u001b[38;5;241m2\u001b[39m:]\n\u001b[1;32m    189\u001b[0m \u001b[38;5;28;01mif\u001b[39;00m m \u001b[38;5;241m!=\u001b[39m n:\n\u001b[0;32m--> 190\u001b[0m     \u001b[38;5;28;01mraise\u001b[39;00m LinAlgError(\u001b[38;5;124m'\u001b[39m\u001b[38;5;124mLast 2 dimensions of the array must be square\u001b[39m\u001b[38;5;124m'\u001b[39m)\n",
      "\u001b[0;31mLinAlgError\u001b[0m: Last 2 dimensions of the array must be square"
     ]
    }
   ],
   "source": [
    "import numpy as np\n",
    "import pandas as pd\n",
    "\n",
    "# Given list\n",
    "matrix_data = [0.9999999980287146, 9.53682849715935e-07, 6.278265099961394e-05, 0.0, 9.53682849715935e-07, 0.9999999980287146, -6.278265099961394e-05, 0.0, 6.278265097886907e-05, 2.1782289481657688e-08, -0.9999999980291692, 0.0, 2.1782289481657688e-08, 6.278265097886907e-05, 0.9999999980291692, 0.0, -9.536842153862658e-07, 0.999999999999545, 2.172241470122033e-08, 0.0, 0.999999999999545, -9.536842153862658e-07, -2.172241470122033e-08, 0.0, -2.3842071242898373e-07, 0.24999999950717866, -1.6543612251060553e-24, 6.278265099961394e-05, -0.24999999950717866, 2.3842071242898373e-07, -1.6543612251060553e-24, -6.278265099961394e-05, -5.4455723704144235e-09, 1.569566274471727e-05, -5.048709793414476e-29, -0.9999999980291692, -1.569566274471727e-05, 5.4455723704144235e-09, -5.048709793414476e-29, 0.9999999980291692, -0.24999999999988626, -2.384210538465665e-07, 3.3881317890172014e-21, 2.172241470122033e-08, 2.384210538465665e-07, 0.24999999999988626, 3.3881317890172014e-21, -2.172241470122033e-08]\n",
    "\n",
    "\n",
    "# Reshape into a 6x6 matrix\n",
    "matrix = np.array(matrix_data).reshape(6, 8)\n",
    "\n",
    "# Convert the matrix to a pandas DataFrame for better visualization\n",
    "matrix_df = pd.DataFrame(matrix)\n",
    "\n",
    "from IPython.display import display\n",
    "print(\"G Matrix:\")\n",
    "display(matrix_df)\n",
    "print(\"Determinant of the matrix:\", np.linalg.det(matrix))\n",
    "np.linalg.det(matrix)\n",
    "print(\"Inverse of the G matrix:\")\n"
   ]
  },
  {
   "cell_type": "code",
   "execution_count": 65,
   "metadata": {},
   "outputs": [
    {
     "data": {
      "text/html": [
       "<div>\n",
       "<style scoped>\n",
       "    .dataframe tbody tr th:only-of-type {\n",
       "        vertical-align: middle;\n",
       "    }\n",
       "\n",
       "    .dataframe tbody tr th {\n",
       "        vertical-align: top;\n",
       "    }\n",
       "\n",
       "    .dataframe thead th {\n",
       "        text-align: right;\n",
       "    }\n",
       "</style>\n",
       "<table border=\"1\" class=\"dataframe\">\n",
       "  <thead>\n",
       "    <tr style=\"text-align: right;\">\n",
       "      <th></th>\n",
       "      <th>0</th>\n",
       "      <th>1</th>\n",
       "      <th>2</th>\n",
       "    </tr>\n",
       "  </thead>\n",
       "  <tbody>\n",
       "    <tr>\n",
       "      <th>0</th>\n",
       "      <td>0.999999</td>\n",
       "      <td>-0.000969</td>\n",
       "      <td>-0.000710</td>\n",
       "    </tr>\n",
       "    <tr>\n",
       "      <th>1</th>\n",
       "      <td>0.000970</td>\n",
       "      <td>0.999999</td>\n",
       "      <td>0.001298</td>\n",
       "    </tr>\n",
       "    <tr>\n",
       "      <th>2</th>\n",
       "      <td>0.000709</td>\n",
       "      <td>-0.001299</td>\n",
       "      <td>0.999999</td>\n",
       "    </tr>\n",
       "  </tbody>\n",
       "</table>\n",
       "</div>"
      ],
      "text/plain": [
       "          0         1         2\n",
       "0  0.999999 -0.000969 -0.000710\n",
       "1  0.000970  0.999999  0.001298\n",
       "2  0.000709 -0.001299  0.999999"
      ]
     },
     "metadata": {},
     "output_type": "display_data"
    }
   ],
   "source": [
    "import tf.transformations as tft\n",
    "import numpy as np\n",
    "\n",
    "# Given quaternion values\n",
    "quaternion = (\n",
    "    -0.0006492332642375155,  # x\n",
    "    -0.00035469609910348827,  # y\n",
    "    0.00048480506254222757,   # z\n",
    "    0.9999996088253722        # w\n",
    ")\n",
    "\n",
    "# Use tf's quaternion_matrix to convert quaternion to a 4x4 transformation matrix\n",
    "rotation_matrix = tft.quaternion_matrix(quaternion)\n",
    "\n",
    "# Extract the 3x3 rotation matrix part\n",
    "rotation_matrix_3x3 = rotation_matrix[:3, :3]\n",
    "\n",
    "# Display the 3x3 rotation matrix\n",
    "display(pd.DataFrame(rotation_matrix_3x3))\n"
   ]
  },
  {
   "cell_type": "code",
   "execution_count": 71,
   "metadata": {},
   "outputs": [
    {
     "data": {
      "text/html": [
       "<div>\n",
       "<style scoped>\n",
       "    .dataframe tbody tr th:only-of-type {\n",
       "        vertical-align: middle;\n",
       "    }\n",
       "\n",
       "    .dataframe tbody tr th {\n",
       "        vertical-align: top;\n",
       "    }\n",
       "\n",
       "    .dataframe thead th {\n",
       "        text-align: right;\n",
       "    }\n",
       "</style>\n",
       "<table border=\"1\" class=\"dataframe\">\n",
       "  <thead>\n",
       "    <tr style=\"text-align: right;\">\n",
       "      <th></th>\n",
       "      <th>0</th>\n",
       "      <th>1</th>\n",
       "      <th>2</th>\n",
       "    </tr>\n",
       "  </thead>\n",
       "  <tbody>\n",
       "    <tr>\n",
       "      <th>0</th>\n",
       "      <td>0.999998</td>\n",
       "      <td>0.000468</td>\n",
       "      <td>0.001916</td>\n",
       "    </tr>\n",
       "    <tr>\n",
       "      <th>1</th>\n",
       "      <td>0.001915</td>\n",
       "      <td>0.001471</td>\n",
       "      <td>-0.999997</td>\n",
       "    </tr>\n",
       "    <tr>\n",
       "      <th>2</th>\n",
       "      <td>-0.000471</td>\n",
       "      <td>0.999999</td>\n",
       "      <td>0.001470</td>\n",
       "    </tr>\n",
       "  </tbody>\n",
       "</table>\n",
       "</div>"
      ],
      "text/plain": [
       "          0         1         2\n",
       "0  0.999998  0.000468  0.001916\n",
       "1  0.001915  0.001471 -0.999997\n",
       "2 -0.000471  0.999999  0.001470"
      ]
     },
     "metadata": {},
     "output_type": "display_data"
    }
   ],
   "source": [
    "flattened_matrix = [\n",
    "    0.9999980545162017, 0.0004682219393582945, 0.0019161764081518404,\n",
    "    0.001915485711870842, 0.0014711695997115814, -0.9999970832829946,\n",
    "    -0.00047103959416675917, 0.999998808213402, 0.0014702698651401355\n",
    "]\n",
    "\n",
    "# Reshape into a 3x3 matrix\n",
    "matrix = np.array(flattened_matrix).reshape(3, 3)\n",
    "\n",
    "# Assign to s(i), n(i), t(i)\n",
    "s_i = matrix[:, 0]  # first column\n",
    "t_i = matrix[:, 1]  # second column\n",
    "n_i = matrix[:, 2]  # third column\n",
    "\n",
    "display(pd.DataFrame(matrix))"
   ]
  },
  {
   "cell_type": "code",
   "execution_count": 72,
   "metadata": {},
   "outputs": [],
   "source": [
    "bi_l = np.array([0, 0.25, 0.0]) \n",
    "bi_r = np.array([0, -0.25, 0.0])  "
   ]
  },
  {
   "cell_type": "code",
   "execution_count": 73,
   "metadata": {},
   "outputs": [
    {
     "data": {
      "text/html": [
       "<div>\n",
       "<style scoped>\n",
       "    .dataframe tbody tr th:only-of-type {\n",
       "        vertical-align: middle;\n",
       "    }\n",
       "\n",
       "    .dataframe tbody tr th {\n",
       "        vertical-align: top;\n",
       "    }\n",
       "\n",
       "    .dataframe thead th {\n",
       "        text-align: right;\n",
       "    }\n",
       "</style>\n",
       "<table border=\"1\" class=\"dataframe\">\n",
       "  <thead>\n",
       "    <tr style=\"text-align: right;\">\n",
       "      <th></th>\n",
       "      <th>0</th>\n",
       "    </tr>\n",
       "  </thead>\n",
       "  <tbody>\n",
       "    <tr>\n",
       "      <th>0</th>\n",
       "      <td>-0.000117</td>\n",
       "    </tr>\n",
       "    <tr>\n",
       "      <th>1</th>\n",
       "      <td>-0.000325</td>\n",
       "    </tr>\n",
       "    <tr>\n",
       "      <th>2</th>\n",
       "      <td>-0.250000</td>\n",
       "    </tr>\n",
       "  </tbody>\n",
       "</table>\n",
       "</div>"
      ],
      "text/plain": [
       "          0\n",
       "0 -0.000117\n",
       "1 -0.000325\n",
       "2 -0.250000"
      ]
     },
     "metadata": {},
     "output_type": "display_data"
    }
   ],
   "source": [
    "first_column = np.cross(np.dot(rotation_matrix_3x3, bi_l),s_i)\n",
    "display(pd.DataFrame(first_column))"
   ]
  },
  {
   "cell_type": "code",
   "execution_count": 74,
   "metadata": {},
   "outputs": [
    {
     "data": {
      "text/html": [
       "<div>\n",
       "<style scoped>\n",
       "    .dataframe tbody tr th:only-of-type {\n",
       "        vertical-align: middle;\n",
       "    }\n",
       "\n",
       "    .dataframe tbody tr th {\n",
       "        vertical-align: top;\n",
       "    }\n",
       "\n",
       "    .dataframe thead th {\n",
       "        text-align: right;\n",
       "    }\n",
       "</style>\n",
       "<table border=\"1\" class=\"dataframe\">\n",
       "  <thead>\n",
       "    <tr style=\"text-align: right;\">\n",
       "      <th></th>\n",
       "      <th>0</th>\n",
       "    </tr>\n",
       "  </thead>\n",
       "  <tbody>\n",
       "    <tr>\n",
       "      <th>0</th>\n",
       "      <td>0.250000</td>\n",
       "    </tr>\n",
       "    <tr>\n",
       "      <th>1</th>\n",
       "      <td>0.000242</td>\n",
       "    </tr>\n",
       "    <tr>\n",
       "      <th>2</th>\n",
       "      <td>-0.000117</td>\n",
       "    </tr>\n",
       "  </tbody>\n",
       "</table>\n",
       "</div>"
      ],
      "text/plain": [
       "          0\n",
       "0  0.250000\n",
       "1  0.000242\n",
       "2 -0.000117"
      ]
     },
     "metadata": {},
     "output_type": "display_data"
    }
   ],
   "source": [
    "second_column = np.cross(np.dot(rotation_matrix_3x3, bi_l),t_i)\n",
    "display(pd.DataFrame(second_column))"
   ]
  },
  {
   "cell_type": "code",
   "execution_count": 78,
   "metadata": {},
   "outputs": [
    {
     "data": {
      "text/html": [
       "<div>\n",
       "<style scoped>\n",
       "    .dataframe tbody tr th:only-of-type {\n",
       "        vertical-align: middle;\n",
       "    }\n",
       "\n",
       "    .dataframe tbody tr th {\n",
       "        vertical-align: top;\n",
       "    }\n",
       "\n",
       "    .dataframe thead th {\n",
       "        text-align: right;\n",
       "    }\n",
       "</style>\n",
       "<table border=\"1\" class=\"dataframe\">\n",
       "  <thead>\n",
       "    <tr style=\"text-align: right;\">\n",
       "      <th></th>\n",
       "      <th>0</th>\n",
       "    </tr>\n",
       "  </thead>\n",
       "  <tbody>\n",
       "    <tr>\n",
       "      <th>0</th>\n",
       "      <td>4.286545e-05</td>\n",
       "    </tr>\n",
       "    <tr>\n",
       "      <th>1</th>\n",
       "      <td>-2.659595e-07</td>\n",
       "    </tr>\n",
       "    <tr>\n",
       "      <th>2</th>\n",
       "      <td>-2.367569e-04</td>\n",
       "    </tr>\n",
       "  </tbody>\n",
       "</table>\n",
       "</div>"
      ],
      "text/plain": [
       "              0\n",
       "0  4.286545e-05\n",
       "1 -2.659595e-07\n",
       "2 -2.367569e-04"
      ]
     },
     "metadata": {},
     "output_type": "display_data"
    }
   ],
   "source": [
    "third_column = np.cross(np.dot(rotation_matrix_3x3, bi_l),n_i)\n",
    "display(pd.DataFrame(third_column))"
   ]
  },
  {
   "cell_type": "code",
   "execution_count": 16,
   "metadata": {},
   "outputs": [],
   "source": [
    "import tf.transformations as tf\n",
    "import csv\n",
    "import numpy as np"
   ]
  },
  {
   "cell_type": "code",
   "execution_count": 4,
   "metadata": {},
   "outputs": [],
   "source": [
    "def quaternion_to_angular_velocity(q1, q2, dt):\n",
    "    \"\"\"Computes angular velocity from the change in two quaternions.\"\"\"\n",
    "    q1_inv = tf.quaternion_inverse(q1)\n",
    "    q_diff = tf.quaternion_multiply(q1_inv, q2)  # Relative quaternion\n",
    "    angular_velocity = 2 * np.array(q_diff[:3]) / dt  # Divide by time step to get velocity\n",
    "    return angular_velocity"
   ]
  },
  {
   "cell_type": "code",
   "execution_count": 9,
   "metadata": {},
   "outputs": [],
   "source": [
    "def read_trajectory_and_compute_q_dot_d(csv_file, dt):\n",
    "    trajectory_data = []\n",
    "\n",
    "    # Reading the CSV file\n",
    "    with open(csv_file, newline='') as csvfile:\n",
    "        reader = csv.reader(csvfile)\n",
    "        next(reader)  # Skip header row\n",
    "        for row in reader:\n",
    "            position_orientation = list(map(float, row))  # Convert all values to float\n",
    "            trajectory_data.append(position_orientation)\n",
    "\n",
    "    trajectory_data = np.array(trajectory_data)  # Convert to numpy array for easy manipulation\n",
    "\n",
    "    # Initialize lists to store positions, orientations, and velocities\n",
    "    positions = []\n",
    "    orientations = []\n",
    "    velocities = []\n",
    "\n",
    "    # Compute q_dot_d (velocity) for each time step\n",
    "    for i in range(1, len(trajectory_data)):\n",
    "        # Store position (first 3 values)\n",
    "        positions.append(trajectory_data[i][:3])  # Only positions (x, y, z)\n",
    "\n",
    "        # Store orientation (last 4 values as quaternion)\n",
    "        orientations.append(trajectory_data[i][3:])  # Only orientation (quaternion: x, y, z, w)\n",
    "\n",
    "        # Difference in position (linear velocity)\n",
    "        delta_position = trajectory_data[i][:3] - trajectory_data[i-1][:3]\n",
    "        linear_velocity = delta_position / dt\n",
    "\n",
    "        # Compute angular velocity from quaternion difference\n",
    "        q_current = trajectory_data[i][3:]  # Current quaternion\n",
    "        q_previous = trajectory_data[i-1][3:]  # Previous quaternion\n",
    "        angular_velocity = quaternion_to_angular_velocity(q_previous, q_current, dt)\n",
    "\n",
    "        # Combine linear and angular velocities\n",
    "        q_dot_d = np.concatenate((linear_velocity, angular_velocity))\n",
    "        velocities.append(q_dot_d)\n",
    "\n",
    "    return positions, orientations, velocities"
   ]
  },
  {
   "cell_type": "code",
   "execution_count": 17,
   "metadata": {},
   "outputs": [],
   "source": [
    "q_d_full_pos, q_d_full_ort, q_ddot_full = read_trajectory_and_compute_q_dot_d(\"box_trajectory.csv\", 0.001)"
   ]
  },
  {
   "cell_type": "code",
   "execution_count": 18,
   "metadata": {},
   "outputs": [
    {
     "data": {
      "text/plain": [
       "array([3.00000438e-01, 3.52807754e-06, 1.10075533e+00])"
      ]
     },
     "execution_count": 18,
     "metadata": {},
     "output_type": "execute_result"
    }
   ],
   "source": [
    "q_d_full_pos[0]"
   ]
  },
  {
   "cell_type": "code",
   "execution_count": 20,
   "metadata": {},
   "outputs": [
    {
     "data": {
      "text/plain": [
       "array([ 1.87130281e-08, -5.11117233e-07,  8.09331080e-06,  1.00000000e+00])"
      ]
     },
     "execution_count": 20,
     "metadata": {},
     "output_type": "execute_result"
    }
   ],
   "source": [
    "q_d_full_ort[0]"
   ]
  },
  {
   "cell_type": "code",
   "execution_count": 21,
   "metadata": {},
   "outputs": [
    {
     "data": {
      "text/plain": [
       "array([0.        , 0.        , 1.00049031, 0.        , 0.        ,\n",
       "       0.        ])"
      ]
     },
     "execution_count": 21,
     "metadata": {},
     "output_type": "execute_result"
    }
   ],
   "source": [
    "q_ddot_full[0]"
   ]
  }
 ],
 "metadata": {
  "kernelspec": {
   "display_name": "Python 3",
   "language": "python",
   "name": "python3"
  },
  "language_info": {
   "codemirror_mode": {
    "name": "ipython",
    "version": 3
   },
   "file_extension": ".py",
   "mimetype": "text/x-python",
   "name": "python",
   "nbconvert_exporter": "python",
   "pygments_lexer": "ipython3",
   "version": "3.8.10"
  }
 },
 "nbformat": 4,
 "nbformat_minor": 2
}
