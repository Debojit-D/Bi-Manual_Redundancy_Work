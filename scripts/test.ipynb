{
 "cells": [
  {
   "cell_type": "code",
   "execution_count": 7,
   "metadata": {},
   "outputs": [
    {
     "name": "stdout",
     "output_type": "stream",
     "text": [
      "Euler angles from quaternion: (-1.5402320284971942, -0.0010110473841111296, 0.0006419361400064118)\n",
      "Euler angles from rotation matrix: (0.47213486774714114, -1.570796250153774, -2.042856422889668)\n",
      "Difference: [-2.0123669   1.5697852   2.04349836]\n"
     ]
    }
   ],
   "source": [
    "import numpy as np\n",
    "import tf.transformations as tf_trans\n",
    "\n",
    "# Given quaternion for the object orientation\n",
    "quaternion = [0.6962182805132536, 0.000586343871627204, 0.00012155447928643981, -0.7178298874416843]\n",
    "\n",
    "# Convert quaternion to Euler angles (roll, pitch, yaw)\n",
    "euler_angles_quaternion = tf_trans.euler_from_quaternion(quaternion)\n",
    "\n",
    "# Given contact frame basis (rotation matrix)\n",
    "rotation_matrix = np.array([\n",
    "    [-3.485040757404865e-08, 0.9999999972045994, -7.477165230124227e-05],\n",
    "    [-6.825914419582721e-08, 7.477165229886329e-05, 0.9999999972045976],\n",
    "    [0.9999999999999971, 3.4855511325623934e-08, 6.825653818245796e-08]\n",
    "])\n",
    "\n",
    "# Convert rotation matrix to Euler angles (roll, pitch, yaw)\n",
    "euler_angles_matrix = tf_trans.euler_from_matrix(rotation_matrix)\n",
    "\n",
    "# Calculate the difference between Euler angles from quaternion and from the matrix\n",
    "euler_difference = np.array(euler_angles_quaternion) - np.array(euler_angles_matrix)\n",
    "\n",
    "print(\"Euler angles from quaternion:\", euler_angles_quaternion)\n",
    "print(\"Euler angles from rotation matrix:\", euler_angles_matrix)\n",
    "print(\"Difference:\", euler_difference)\n"
   ]
  },
  {
   "cell_type": "code",
   "execution_count": 9,
   "metadata": {},
   "outputs": [
    {
     "name": "stdout",
     "output_type": "stream",
     "text": [
      "Original Quaternion (q1): [0.6962182805132536, 0.000586343871627204, 0.00012155447928643981, -0.7178298874416843]\n",
      "Rotation Matrix converted to Quaternion (q2): [-0.49998128 -0.50001868 -0.49998133  0.5000187 ]\n",
      "Quaternion Difference (q_diff): [ 0.01054696  0.70667054  0.01101178 -0.70737843]\n",
      "Euler angles (roll, pitch, yaw) of the difference: (0.5657656963238317, -1.5695986952091519, -0.5962555474375633)\n"
     ]
    }
   ],
   "source": [
    "import numpy as np\n",
    "import tf.transformations as tf\n",
    "\n",
    "# Given Quaternion (q1)\n",
    "q1 = [0.6962182805132536, 0.000586343871627204, 0.00012155447928643981, -0.7178298874416843]\n",
    "\n",
    "# Contact Frame Basis Matrix (R)\n",
    "R = np.array([\n",
    "    [-3.485040757404865e-08, 0.9999999972045994, -7.477165230124227e-05],\n",
    "    [-6.825914419582721e-08, 7.477165229886329e-05, 0.9999999972045976],\n",
    "    [0.9999999999999971, 3.4855511325623934e-08, 6.825653818245796e-08]\n",
    "])\n",
    "\n",
    "# Convert the rotation matrix (R) to a quaternion (q2)\n",
    "q2 = tf.quaternion_from_matrix(np.vstack((np.hstack((R, np.zeros((3, 1)))), np.array([0, 0, 0, 1]))))\n",
    "\n",
    "# Calculate the quaternion difference: q_diff = q2 * inverse(q1)\n",
    "q1_inv = tf.quaternion_inverse(q1)\n",
    "q_diff = tf.quaternion_multiply(q2, q1_inv)\n",
    "\n",
    "# Convert the quaternion difference to Euler angles (roll, pitch, yaw)\n",
    "euler_diff = tf.euler_from_quaternion(q_diff)\n",
    "\n",
    "# Print the results\n",
    "print(\"Original Quaternion (q1):\", q1)\n",
    "print(\"Rotation Matrix converted to Quaternion (q2):\", q2)\n",
    "print(\"Quaternion Difference (q_diff):\", q_diff)\n",
    "print(\"Euler angles (roll, pitch, yaw) of the difference:\", euler_diff)\n"
   ]
  },
  {
   "cell_type": "code",
   "execution_count": null,
   "metadata": {},
   "outputs": [],
   "source": []
  }
 ],
 "metadata": {
  "kernelspec": {
   "display_name": "Python 3",
   "language": "python",
   "name": "python3"
  },
  "language_info": {
   "codemirror_mode": {
    "name": "ipython",
    "version": 3
   },
   "file_extension": ".py",
   "mimetype": "text/x-python",
   "name": "python",
   "nbconvert_exporter": "python",
   "pygments_lexer": "ipython3",
   "version": "3.8.10"
  }
 },
 "nbformat": 4,
 "nbformat_minor": 2
}
