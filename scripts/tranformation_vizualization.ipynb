{
 "cells": [
  {
   "cell_type": "code",
   "execution_count": 2,
   "metadata": {},
   "outputs": [
    {
     "name": "stdout",
     "output_type": "stream",
     "text": [
      "Original Euler angles (roll, pitch, yaw): (0.0, -0.0, 0.0)\n",
      "Modified quaternion after rotation: [0.85090352 0.         0.         0.52532199]\n"
     ]
    }
   ],
   "source": [
    "import numpy as np\n",
    "import tf.transformations as tf\n",
    "\n",
    "def quaternion_to_euler(quat):\n",
    "    \"\"\"Converts a quaternion to Euler angles (roll, pitch, yaw).\"\"\"\n",
    "    euler = tf.euler_from_quaternion(quat)\n",
    "    return euler\n",
    "\n",
    "def euler_to_quaternion(roll, pitch, yaw):\n",
    "    \"\"\"Converts Euler angles (roll, pitch, yaw) to a quaternion.\"\"\"\n",
    "    quat = tf.quaternion_from_euler(roll, pitch, yaw)\n",
    "    return quat\n",
    "\n",
    "def apply_rotation_to_quaternion(quat, roll_angle, pitch_angle, yaw_angle):\n",
    "    \"\"\"Applies rotations around the X, Y, Z axes to a quaternion and returns the new quaternion.\"\"\"\n",
    "    # Convert the original quaternion to Euler angles\n",
    "    euler_angles = quaternion_to_euler(quat)\n",
    "    \n",
    "    # Apply the rotations\n",
    "    new_roll = euler_angles[0] + roll_angle\n",
    "    new_pitch = euler_angles[1] + pitch_angle\n",
    "    new_yaw = euler_angles[2] + yaw_angle\n",
    "    \n",
    "    # Convert the new Euler angles back to a quaternion\n",
    "    new_quat = euler_to_quaternion(new_roll, new_pitch, new_yaw)\n",
    "    return new_quat\n",
    "\n",
    "if __name__ == \"__main__\":\n",
    "    # Hardcoded quaternion (example: representing no rotation)\n",
    "    original_quaternion = [0, 0, 0, 1]  # [x, y, z, w]\n",
    "    \n",
    "    # Convert the quaternion to Euler angles\n",
    "    euler_angles = quaternion_to_euler(original_quaternion)\n",
    "    print(\"Original Euler angles (roll, pitch, yaw):\", euler_angles)\n",
    "    \n",
    "    # Define the rotation to apply (in radians)\n",
    "    roll_rotation = np.pi/2 # 30 degrees\n",
    "    pitch_rotation = 0  # 30 degrees\n",
    "    yaw_rotation = 0  # 30 degrees\n",
    "    \n",
    "    # Apply the rotation and get the new quaternion\n",
    "    modified_quaternion = apply_rotation_to_quaternion(original_quaternion, roll_rotation, pitch_rotation, yaw_rotation)\n",
    "    print(\"Modified quaternion after rotation:\", modified_quaternion)\n"
   ]
  }
 ],
 "metadata": {
  "kernelspec": {
   "display_name": "Python 3",
   "language": "python",
   "name": "python3"
  },
  "language_info": {
   "codemirror_mode": {
    "name": "ipython",
    "version": 3
   },
   "file_extension": ".py",
   "mimetype": "text/x-python",
   "name": "python",
   "nbconvert_exporter": "python",
   "pygments_lexer": "ipython3",
   "version": "3.8.10"
  }
 },
 "nbformat": 4,
 "nbformat_minor": 2
}
