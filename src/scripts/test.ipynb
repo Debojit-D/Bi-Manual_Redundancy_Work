{
 "cells": [
  {
   "cell_type": "code",
   "execution_count": 1,
   "metadata": {},
   "outputs": [
    {
     "name": "stdout",
     "output_type": "stream",
     "text": [
      "Euler angles from quaternion: (-1.5402320284971942, -0.0010110473841111296, 0.0006419361400064118)\n",
      "Euler angles from rotation matrix: (0.47213486774714114, -1.570796250153774, -2.042856422889668)\n",
      "Difference: [-2.0123669   1.5697852   2.04349836]\n"
     ]
    }
   ],
   "source": [
    "import numpy as np\n",
    "import tf.transformations as tf_trans\n",
    "\n",
    "# Given quaternion for the object orientation\n",
    "quaternion = [0.6962182805132536, 0.000586343871627204, 0.00012155447928643981, -0.7178298874416843]\n",
    "\n",
    "# Convert quaternion to Euler angles (roll, pitch, yaw)\n",
    "euler_angles_quaternion = tf_trans.euler_from_quaternion(quaternion)\n",
    "\n",
    "# Given contact frame basis (rotation matrix)\n",
    "rotation_matrix = np.array([\n",
    "    [-3.485040757404865e-08, 0.9999999972045994, -7.477165230124227e-05],\n",
    "    [-6.825914419582721e-08, 7.477165229886329e-05, 0.9999999972045976],\n",
    "    [0.9999999999999971, 3.4855511325623934e-08, 6.825653818245796e-08]\n",
    "])\n",
    "\n",
    "# Convert rotation matrix to Euler angles (roll, pitch, yaw)\n",
    "euler_angles_matrix = tf_trans.euler_from_matrix(rotation_matrix)\n",
    "\n",
    "# Calculate the difference between Euler angles from quaternion and from the matrix\n",
    "euler_difference = np.array(euler_angles_quaternion) - np.array(euler_angles_matrix)\n",
    "\n",
    "print(\"Euler angles from quaternion:\", euler_angles_quaternion)\n",
    "print(\"Euler angles from rotation matrix:\", euler_angles_matrix)\n",
    "print(\"Difference:\", euler_difference)\n"
   ]
  },
  {
   "cell_type": "code",
   "execution_count": 2,
   "metadata": {},
   "outputs": [
    {
     "name": "stdout",
     "output_type": "stream",
     "text": [
      "Original Quaternion (q1): [0.6962182805132536, 0.000586343871627204, 0.00012155447928643981, -0.7178298874416843]\n",
      "Rotation Matrix converted to Quaternion (q2): [-0.49998128 -0.50001868 -0.49998133  0.5000187 ]\n",
      "Quaternion Difference (q_diff): [ 0.01054696  0.70667054  0.01101178 -0.70737843]\n",
      "Euler angles (roll, pitch, yaw) of the difference: (0.5657656963237844, -1.5695986952091519, -0.5962555474375607)\n"
     ]
    }
   ],
   "source": [
    "import numpy as np\n",
    "import tf.transformations as tf\n",
    "\n",
    "# Given Quaternion (q1)\n",
    "q1 = [0.6962182805132536, 0.000586343871627204, 0.00012155447928643981, -0.7178298874416843]\n",
    "\n",
    "# Contact Frame Basis Matrix (R)\n",
    "R = np.array([\n",
    "    [-3.485040757404865e-08, 0.9999999972045994, -7.477165230124227e-05],\n",
    "    [-6.825914419582721e-08, 7.477165229886329e-05, 0.9999999972045976],\n",
    "    [0.9999999999999971, 3.4855511325623934e-08, 6.825653818245796e-08]\n",
    "])\n",
    "\n",
    "# Convert the rotation matrix (R) to a quaternion (q2)\n",
    "q2 = tf.quaternion_from_matrix(np.vstack((np.hstack((R, np.zeros((3, 1)))), np.array([0, 0, 0, 1]))))\n",
    "\n",
    "# Calculate the quaternion difference: q_diff = q2 * inverse(q1)\n",
    "q1_inv = tf.quaternion_inverse(q1)\n",
    "q_diff = tf.quaternion_multiply(q2, q1_inv)\n",
    "\n",
    "# Convert the quaternion difference to Euler angles (roll, pitch, yaw)\n",
    "euler_diff = tf.euler_from_quaternion(q_diff)\n",
    "\n",
    "# Print the results\n",
    "print(\"Original Quaternion (q1):\", q1)\n",
    "print(\"Rotation Matrix converted to Quaternion (q2):\", q2)\n",
    "print(\"Quaternion Difference (q_diff):\", q_diff)\n",
    "print(\"Euler angles (roll, pitch, yaw) of the difference:\", euler_diff)\n"
   ]
  },
  {
   "cell_type": "code",
   "execution_count": 10,
   "metadata": {},
   "outputs": [
    {
     "ename": "AttributeError",
     "evalue": "module 'numpy.random' has no attribute 'BitGenerator'",
     "output_type": "error",
     "traceback": [
      "\u001b[0;31m---------------------------------------------------------------------------\u001b[0m",
      "\u001b[0;31mAttributeError\u001b[0m                            Traceback (most recent call last)",
      "Cell \u001b[0;32mIn[10], line 1\u001b[0m\n\u001b[0;32m----> 1\u001b[0m \u001b[38;5;28;01mimport\u001b[39;00m \u001b[38;5;21;01mpandas\u001b[39;00m \u001b[38;5;28;01mas\u001b[39;00m \u001b[38;5;21;01mpd\u001b[39;00m\n\u001b[1;32m      2\u001b[0m \u001b[38;5;28;01mimport\u001b[39;00m \u001b[38;5;21;01mmatplotlib\u001b[39;00m\u001b[38;5;21;01m.\u001b[39;00m\u001b[38;5;21;01mpyplot\u001b[39;00m \u001b[38;5;28;01mas\u001b[39;00m \u001b[38;5;21;01mplt\u001b[39;00m\n\u001b[1;32m      4\u001b[0m \u001b[38;5;66;03m# Load the CSV file\u001b[39;00m\n",
      "File \u001b[0;32m~/.local/lib/python3.8/site-packages/pandas/__init__.py:22\u001b[0m\n\u001b[1;32m     19\u001b[0m \u001b[38;5;28;01mdel\u001b[39;00m _hard_dependencies, _dependency, _missing_dependencies\n\u001b[1;32m     21\u001b[0m \u001b[38;5;66;03m# numpy compat\u001b[39;00m\n\u001b[0;32m---> 22\u001b[0m \u001b[38;5;28;01mfrom\u001b[39;00m \u001b[38;5;21;01mpandas\u001b[39;00m\u001b[38;5;21;01m.\u001b[39;00m\u001b[38;5;21;01mcompat\u001b[39;00m \u001b[38;5;28;01mimport\u001b[39;00m is_numpy_dev \u001b[38;5;28;01mas\u001b[39;00m _is_numpy_dev  \u001b[38;5;66;03m# pyright: ignore # noqa:F401\u001b[39;00m\n\u001b[1;32m     24\u001b[0m \u001b[38;5;28;01mtry\u001b[39;00m:\n\u001b[1;32m     25\u001b[0m     \u001b[38;5;28;01mfrom\u001b[39;00m \u001b[38;5;21;01mpandas\u001b[39;00m\u001b[38;5;21;01m.\u001b[39;00m\u001b[38;5;21;01m_libs\u001b[39;00m \u001b[38;5;28;01mimport\u001b[39;00m hashtable \u001b[38;5;28;01mas\u001b[39;00m _hashtable, lib \u001b[38;5;28;01mas\u001b[39;00m _lib, tslib \u001b[38;5;28;01mas\u001b[39;00m _tslib\n",
      "File \u001b[0;32m~/.local/lib/python3.8/site-packages/pandas/compat/__init__.py:16\u001b[0m\n\u001b[1;32m     13\u001b[0m \u001b[38;5;28;01mimport\u001b[39;00m \u001b[38;5;21;01mplatform\u001b[39;00m\n\u001b[1;32m     14\u001b[0m \u001b[38;5;28;01mimport\u001b[39;00m \u001b[38;5;21;01msys\u001b[39;00m\n\u001b[0;32m---> 16\u001b[0m \u001b[38;5;28;01mfrom\u001b[39;00m \u001b[38;5;21;01mpandas\u001b[39;00m\u001b[38;5;21;01m.\u001b[39;00m\u001b[38;5;21;01m_typing\u001b[39;00m \u001b[38;5;28;01mimport\u001b[39;00m F\n\u001b[1;32m     17\u001b[0m \u001b[38;5;28;01mfrom\u001b[39;00m \u001b[38;5;21;01mpandas\u001b[39;00m\u001b[38;5;21;01m.\u001b[39;00m\u001b[38;5;21;01mcompat\u001b[39;00m\u001b[38;5;21;01m.\u001b[39;00m\u001b[38;5;21;01m_constants\u001b[39;00m \u001b[38;5;28;01mimport\u001b[39;00m (\n\u001b[1;32m     18\u001b[0m     IS64,\n\u001b[1;32m     19\u001b[0m     PY39,\n\u001b[0;32m   (...)\u001b[0m\n\u001b[1;32m     22\u001b[0m     PYPY,\n\u001b[1;32m     23\u001b[0m )\n\u001b[1;32m     24\u001b[0m \u001b[38;5;28;01mimport\u001b[39;00m \u001b[38;5;21;01mpandas\u001b[39;00m\u001b[38;5;21;01m.\u001b[39;00m\u001b[38;5;21;01mcompat\u001b[39;00m\u001b[38;5;21;01m.\u001b[39;00m\u001b[38;5;21;01mcompressors\u001b[39;00m\n",
      "File \u001b[0;32m~/.local/lib/python3.8/site-packages/pandas/_typing.py:139\u001b[0m\n\u001b[1;32m    132\u001b[0m Frequency \u001b[38;5;241m=\u001b[39m Union[\u001b[38;5;28mstr\u001b[39m, \u001b[38;5;124m\"\u001b[39m\u001b[38;5;124mBaseOffset\u001b[39m\u001b[38;5;124m\"\u001b[39m]\n\u001b[1;32m    133\u001b[0m Axes \u001b[38;5;241m=\u001b[39m Union[AnyArrayLike, List, \u001b[38;5;28mrange\u001b[39m]\n\u001b[1;32m    135\u001b[0m RandomState \u001b[38;5;241m=\u001b[39m Union[\n\u001b[1;32m    136\u001b[0m     \u001b[38;5;28mint\u001b[39m,\n\u001b[1;32m    137\u001b[0m     ArrayLike,\n\u001b[1;32m    138\u001b[0m     np\u001b[38;5;241m.\u001b[39mrandom\u001b[38;5;241m.\u001b[39mGenerator,\n\u001b[0;32m--> 139\u001b[0m     \u001b[43mnp\u001b[49m\u001b[38;5;241;43m.\u001b[39;49m\u001b[43mrandom\u001b[49m\u001b[38;5;241;43m.\u001b[39;49m\u001b[43mBitGenerator\u001b[49m,\n\u001b[1;32m    140\u001b[0m     np\u001b[38;5;241m.\u001b[39mrandom\u001b[38;5;241m.\u001b[39mRandomState,\n\u001b[1;32m    141\u001b[0m ]\n\u001b[1;32m    143\u001b[0m \u001b[38;5;66;03m# dtypes\u001b[39;00m\n\u001b[1;32m    144\u001b[0m NpDtype \u001b[38;5;241m=\u001b[39m Union[\u001b[38;5;28mstr\u001b[39m, np\u001b[38;5;241m.\u001b[39mdtype, type_t[Union[\u001b[38;5;28mstr\u001b[39m, \u001b[38;5;28mcomplex\u001b[39m, \u001b[38;5;28mbool\u001b[39m, \u001b[38;5;28mobject\u001b[39m]]]\n",
      "\u001b[0;31mAttributeError\u001b[0m: module 'numpy.random' has no attribute 'BitGenerator'"
     ]
    }
   ],
   "source": [
    "import pandas as pd\n",
    "import matplotlib.pyplot as plt\n",
    "\n",
    "# Load the CSV file\n",
    "file_name = 'joint_angles.csv'\n",
    "df = pd.read_csv(file_name)\n",
    "\n",
    "# Extract joint angle columns (assuming they are named Left_Arm_Joint_1, ..., Right_Arm_Joint_7)\n",
    "left_arm_joint_names = [f'Left_Arm_Joint_{i}' for i in range(1, 8)]\n",
    "right_arm_joint_names = [f'Right_Arm_Joint_{i}' for i in range(1, 8)]\n",
    "\n",
    "# Create subplots: 2 rows, 7 columns (2x7)\n",
    "fig, axes = plt.subplots(nrows=2, ncols=7, figsize=(15, 6))\n",
    "\n",
    "# Plot each joint angle in its respective subplot\n",
    "for i, joint_name in enumerate(left_arm_joint_names):\n",
    "    axes[0, i].plot(df[joint_name])\n",
    "    axes[0, i].set_title(joint_name)\n",
    "    axes[0, i].set_xlabel('Time')\n",
    "    axes[0, i].set_ylabel('Angle')\n",
    "\n",
    "for i, joint_name in enumerate(right_arm_joint_names):\n",
    "    axes[1, i].plot(df[joint_name])\n",
    "    axes[1, i].set_title(joint_name)\n",
    "    axes[1, i].set_xlabel('Time')\n",
    "    axes[1, i].set_ylabel('Angle')\n",
    "\n",
    "# Adjust layout for better spacing\n",
    "plt.tight_layout()\n",
    "\n",
    "# Show the plot\n",
    "plt.show()\n"
   ]
  }
 ],
 "metadata": {
  "kernelspec": {
   "display_name": "Python 3",
   "language": "python",
   "name": "python3"
  },
  "language_info": {
   "codemirror_mode": {
    "name": "ipython",
    "version": 3
   },
   "file_extension": ".py",
   "mimetype": "text/x-python",
   "name": "python",
   "nbconvert_exporter": "python",
   "pygments_lexer": "ipython3",
   "version": "3.8.10"
  }
 },
 "nbformat": 4,
 "nbformat_minor": 2
}
